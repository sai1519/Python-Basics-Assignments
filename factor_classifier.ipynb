{
  "nbformat": 4,
  "nbformat_minor": 0,
  "metadata": {
    "colab": {
      "provenance": []
    },
    "kernelspec": {
      "name": "python3",
      "display_name": "Python 3"
    },
    "language_info": {
      "name": "python"
    }
  },
  "cells": [
    {
      "cell_type": "markdown",
      "source": [
        "# Write a program which will find factors of given number and find whether the factor is even or odd."
      ],
      "metadata": {
        "id": "5KRKvA_lQfm6"
      }
    },
    {
      "cell_type": "code",
      "execution_count": 6,
      "metadata": {
        "colab": {
          "base_uri": "https://localhost:8080/"
        },
        "id": "s-KDrSKU7qgX",
        "outputId": "6645df8d-4aa2-4a02-fb00-06e46e2f9f70"
      },
      "outputs": [
        {
          "output_type": "stream",
          "name": "stdout",
          "text": [
            "Enter the number: 6\n",
            "1\n",
            "Its an odd number\n",
            "2\n",
            "Its an even number\n",
            "3\n",
            "Its an odd number\n",
            "6\n",
            "Its an even number\n"
          ]
        }
      ],
      "source": [
        "number = int(input(\"Enter the number: \"))\n",
        "for i in range(1,number+1):\n",
        "    if number%i==0:\n",
        "      print(i)\n",
        "      if i%2==0:\n",
        "        print(\"Its an even number\")\n",
        "      else:\n",
        "        print(\"Its an odd number\")\n"
      ]
    },
    {
      "cell_type": "code",
      "source": [
        "evenlist=[]\n",
        "oddlist=[]\n",
        "factors=[]\n",
        "number= int(input(\"Enter the number: \"))\n",
        "for i in range(1,number+1):\n",
        "  if number%i==0:\n",
        "    factors.append(i)\n",
        "    if i%2==0:\n",
        "      evenlist.append(i)\n",
        "    else:\n",
        "      oddlist.append(i)\n",
        "print(f\"Factors of {number} which are even are{evenlist}\")\n",
        "print(f\"Factors of {number} which are odd are {oddlist}\")\n",
        "print(f\"Factors of {number} are {factors}\")"
      ],
      "metadata": {
        "colab": {
          "base_uri": "https://localhost:8080/"
        },
        "id": "0pPNHHzL942Q",
        "outputId": "5fb87ff7-fa45-44fb-b698-5b84ce5daeb5"
      },
      "execution_count": 11,
      "outputs": [
        {
          "output_type": "stream",
          "name": "stdout",
          "text": [
            "Enter the number: 6\n",
            "Factors of 6 which are even are[2, 6]\n",
            "Factors of 6 which are odd are [1, 3]\n",
            "Factors of 6 are [1, 2, 3, 6]\n"
          ]
        }
      ]
    },
    {
      "cell_type": "code",
      "source": [
        "def fact(number):\n",
        "  evenlist=[]\n",
        "  oddlist=[]\n",
        "  factors=[]\n",
        "  for i in range(1,number+1):\n",
        "    if number%i==0:\n",
        "      factors.append(i)\n",
        "      if i%2==0:\n",
        "        evenlist.append(i)\n",
        "      else:\n",
        "        oddlist.append(i)\n",
        "  print(f\"Factors of {number} which are even are{evenlist}\")\n",
        "  print(f\"Factors of {number} which are odd are {oddlist}\")\n",
        "  print(f\"Factors of {number} are {factors}\")\n",
        "\n",
        "number= int(input(\"Enter the number: \"))\n",
        "fact(number)\n"
      ],
      "metadata": {
        "colab": {
          "base_uri": "https://localhost:8080/"
        },
        "id": "OHjawiI4NyzM",
        "outputId": "937ce3e3-9277-4765-f242-e17412a63974"
      },
      "execution_count": 15,
      "outputs": [
        {
          "output_type": "stream",
          "name": "stdout",
          "text": [
            "Enter the number: 6\n",
            "Factors of 6 which are even are[2, 6]\n",
            "Factors of 6 which are odd are [1, 3]\n",
            "Factors of 6 are [1, 2, 3, 6]\n"
          ]
        }
      ]
    },
    {
      "cell_type": "code",
      "source": [],
      "metadata": {
        "id": "V1s1gIz4Ou1r"
      },
      "execution_count": null,
      "outputs": []
    }
  ]
}