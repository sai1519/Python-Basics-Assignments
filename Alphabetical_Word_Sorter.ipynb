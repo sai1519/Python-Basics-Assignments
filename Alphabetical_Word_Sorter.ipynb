{
  "nbformat": 4,
  "nbformat_minor": 0,
  "metadata": {
    "colab": {
      "provenance": []
    },
    "kernelspec": {
      "name": "python3",
      "display_name": "Python 3"
    },
    "language_info": {
      "name": "python"
    }
  },
  "cells": [
    {
      "cell_type": "markdown",
      "source": [
        "# Write a code which accepts a sequence of words as input and prints the words in a sequence after sorting them alphabetically."
      ],
      "metadata": {
        "id": "AVUi-JVhXMH0"
      }
    },
    {
      "cell_type": "code",
      "execution_count": 5,
      "metadata": {
        "colab": {
          "base_uri": "https://localhost:8080/"
        },
        "id": "9A8nQtCCXLWR",
        "outputId": "fcf5a28e-8237-4a8d-e89d-786d22dc3b5f"
      },
      "outputs": [
        {
          "output_type": "stream",
          "name": "stdout",
          "text": [
            "Enter your words. To stop giving input please write 'done': home\n",
            "Enter your words. To stop giving input please write 'done': banana\n",
            "Enter your words. To stop giving input please write 'done': apple\n",
            "Enter your words. To stop giving input please write 'done': music\n",
            "Enter your words. To stop giving input please write 'done': watermelon\n",
            "Enter your words. To stop giving input please write 'done': done\n",
            "The sorted list of words are: \n",
            "apple,banana,home,music,watermelon\n"
          ]
        }
      ],
      "source": [
        "words=[]\n",
        "while True:\n",
        "  userinput=input(\"Enter your words. To stop giving input please write 'done': \").lower().strip()\n",
        "  if userinput==\"done\":\n",
        "    break\n",
        "  words.append(userinput)\n",
        "sortedlist=sorted(words)\n",
        "print(\"The sorted list of words are: \")\n",
        "print(\",\".join(sortedlist))\n",
        "\n",
        "\n"
      ]
    },
    {
      "cell_type": "code",
      "source": [
        "def sorter():\n",
        "  words=[]\n",
        "  while True:\n",
        "    userinput=input(\"Enter your words. To stop giving input please write 'done': \").lower().strip()\n",
        "    if userinput==\"done\":\n",
        "      break\n",
        "    words.append(userinput)\n",
        "  sortedlist=sorted(words)\n",
        "  print(\"The sorted list of words are: \")\n",
        "  print(\",\".join(sortedlist))\n",
        "sorter()"
      ],
      "metadata": {
        "colab": {
          "base_uri": "https://localhost:8080/"
        },
        "id": "woYGuQ-oZdHG",
        "outputId": "31a54a7f-8722-4cce-a48d-8317027b633e"
      },
      "execution_count": 6,
      "outputs": [
        {
          "output_type": "stream",
          "name": "stdout",
          "text": [
            "Enter your words. To stop giving input please write 'done': home \n",
            "Enter your words. To stop giving input please write 'done': option\n",
            "Enter your words. To stop giving input please write 'done': round\n",
            "Enter your words. To stop giving input please write 'done': sweet\n",
            "Enter your words. To stop giving input please write 'done': done\n",
            "The sorted list of words are: \n",
            "home,option,round,sweet\n"
          ]
        }
      ]
    }
  ]
}